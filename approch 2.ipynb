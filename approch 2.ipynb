{
 "cells": [
  {
   "cell_type": "code",
   "execution_count": 1,
   "metadata": {},
   "outputs": [],
   "source": [
    "import pandas as pd\n",
    "import numpy as np\n",
    "import matplotlib.pyplot as plt"
   ]
  },
  {
   "cell_type": "code",
   "execution_count": 2,
   "metadata": {},
   "outputs": [],
   "source": [
    "import seaborn as sns"
   ]
  },
  {
   "cell_type": "code",
   "execution_count": 3,
   "metadata": {},
   "outputs": [],
   "source": [
    "%matplotlib inline\n",
    "import warnings\n",
    "warnings.filterwarnings('ignore')\n",
    "import nltk\n",
    "import string"
   ]
  },
  {
   "cell_type": "code",
   "execution_count": 4,
   "metadata": {},
   "outputs": [],
   "source": [
    "train=pd.read_csv(\"train_2kmZucJ.csv\")\n",
    "test=pd.read_csv(\"test_oJQbWVk.csv\")"
   ]
  },
  {
   "cell_type": "code",
   "execution_count": 5,
   "metadata": {},
   "outputs": [],
   "source": [
    "combi=train.append(test,ignore_index=True)"
   ]
  },
  {
   "cell_type": "code",
   "execution_count": 7,
   "metadata": {},
   "outputs": [
    {
     "data": {
      "text/plain": [
       "(7920, 3)"
      ]
     },
     "execution_count": 7,
     "metadata": {},
     "output_type": "execute_result"
    }
   ],
   "source": [
    "train.shape"
   ]
  },
  {
   "cell_type": "code",
   "execution_count": 8,
   "metadata": {},
   "outputs": [
    {
     "data": {
      "text/plain": [
       "(9873, 3)"
      ]
     },
     "execution_count": 8,
     "metadata": {},
     "output_type": "execute_result"
    }
   ],
   "source": [
    "combi.shape"
   ]
  },
  {
   "cell_type": "code",
   "execution_count": 10,
   "metadata": {},
   "outputs": [
    {
     "name": "stdout",
     "output_type": "stream",
     "text": [
      "<class 'pandas.core.frame.DataFrame'>\n",
      "RangeIndex: 9873 entries, 0 to 9872\n",
      "Data columns (total 3 columns):\n",
      "id       9873 non-null int64\n",
      "label    7920 non-null float64\n",
      "tweet    9873 non-null object\n",
      "dtypes: float64(1), int64(1), object(1)\n",
      "memory usage: 231.5+ KB\n"
     ]
    }
   ],
   "source": [
    "combi.info()"
   ]
  },
  {
   "cell_type": "code",
   "execution_count": 14,
   "metadata": {},
   "outputs": [
    {
     "data": {
      "text/html": [
       "<div>\n",
       "<style scoped>\n",
       "    .dataframe tbody tr th:only-of-type {\n",
       "        vertical-align: middle;\n",
       "    }\n",
       "\n",
       "    .dataframe tbody tr th {\n",
       "        vertical-align: top;\n",
       "    }\n",
       "\n",
       "    .dataframe thead tr th {\n",
       "        text-align: left;\n",
       "    }\n",
       "\n",
       "    .dataframe thead tr:last-of-type th {\n",
       "        text-align: right;\n",
       "    }\n",
       "</style>\n",
       "<table border=\"1\" class=\"dataframe\">\n",
       "  <thead>\n",
       "    <tr>\n",
       "      <th></th>\n",
       "      <th colspan=\"8\" halign=\"left\">id</th>\n",
       "    </tr>\n",
       "    <tr>\n",
       "      <th></th>\n",
       "      <th>count</th>\n",
       "      <th>mean</th>\n",
       "      <th>std</th>\n",
       "      <th>min</th>\n",
       "      <th>25%</th>\n",
       "      <th>50%</th>\n",
       "      <th>75%</th>\n",
       "      <th>max</th>\n",
       "    </tr>\n",
       "    <tr>\n",
       "      <th>label</th>\n",
       "      <th></th>\n",
       "      <th></th>\n",
       "      <th></th>\n",
       "      <th></th>\n",
       "      <th></th>\n",
       "      <th></th>\n",
       "      <th></th>\n",
       "      <th></th>\n",
       "    </tr>\n",
       "  </thead>\n",
       "  <tbody>\n",
       "    <tr>\n",
       "      <th>0.0</th>\n",
       "      <td>5894.0</td>\n",
       "      <td>3954.497285</td>\n",
       "      <td>2290.734085</td>\n",
       "      <td>1.0</td>\n",
       "      <td>1971.25</td>\n",
       "      <td>3958.5</td>\n",
       "      <td>5927.50</td>\n",
       "      <td>7920.0</td>\n",
       "    </tr>\n",
       "    <tr>\n",
       "      <th>1.0</th>\n",
       "      <td>2026.0</td>\n",
       "      <td>3977.962981</td>\n",
       "      <td>2274.419827</td>\n",
       "      <td>5.0</td>\n",
       "      <td>2019.50</td>\n",
       "      <td>3968.5</td>\n",
       "      <td>5966.75</td>\n",
       "      <td>7914.0</td>\n",
       "    </tr>\n",
       "  </tbody>\n",
       "</table>\n",
       "</div>"
      ],
      "text/plain": [
       "           id                                                                 \n",
       "        count         mean          std  min      25%     50%      75%     max\n",
       "label                                                                         \n",
       "0.0    5894.0  3954.497285  2290.734085  1.0  1971.25  3958.5  5927.50  7920.0\n",
       "1.0    2026.0  3977.962981  2274.419827  5.0  2019.50  3968.5  5966.75  7914.0"
      ]
     },
     "execution_count": 14,
     "metadata": {},
     "output_type": "execute_result"
    }
   ],
   "source": [
    "#combi.groupby('label').describe()\n",
    "combi.groupby('label').describe()"
   ]
  },
  {
   "cell_type": "code",
   "execution_count": 15,
   "metadata": {},
   "outputs": [],
   "source": [
    "combi['length']=combi['tweet'].apply(len)"
   ]
  },
  {
   "cell_type": "code",
   "execution_count": 16,
   "metadata": {},
   "outputs": [
    {
     "data": {
      "text/html": [
       "<div>\n",
       "<style scoped>\n",
       "    .dataframe tbody tr th:only-of-type {\n",
       "        vertical-align: middle;\n",
       "    }\n",
       "\n",
       "    .dataframe tbody tr th {\n",
       "        vertical-align: top;\n",
       "    }\n",
       "\n",
       "    .dataframe thead th {\n",
       "        text-align: right;\n",
       "    }\n",
       "</style>\n",
       "<table border=\"1\" class=\"dataframe\">\n",
       "  <thead>\n",
       "    <tr style=\"text-align: right;\">\n",
       "      <th></th>\n",
       "      <th>id</th>\n",
       "      <th>label</th>\n",
       "      <th>tweet</th>\n",
       "      <th>length</th>\n",
       "    </tr>\n",
       "  </thead>\n",
       "  <tbody>\n",
       "    <tr>\n",
       "      <th>0</th>\n",
       "      <td>1</td>\n",
       "      <td>0.0</td>\n",
       "      <td>#fingerprint #Pregnancy Test https://goo.gl/h1...</td>\n",
       "      <td>128</td>\n",
       "    </tr>\n",
       "    <tr>\n",
       "      <th>1</th>\n",
       "      <td>2</td>\n",
       "      <td>0.0</td>\n",
       "      <td>Finally a transparant silicon case ^^ Thanks t...</td>\n",
       "      <td>131</td>\n",
       "    </tr>\n",
       "  </tbody>\n",
       "</table>\n",
       "</div>"
      ],
      "text/plain": [
       "   id  label                                              tweet  length\n",
       "0   1    0.0  #fingerprint #Pregnancy Test https://goo.gl/h1...     128\n",
       "1   2    0.0  Finally a transparant silicon case ^^ Thanks t...     131"
      ]
     },
     "execution_count": 16,
     "metadata": {},
     "output_type": "execute_result"
    }
   ],
   "source": [
    "combi.head(2)"
   ]
  },
  {
   "cell_type": "code",
   "execution_count": 17,
   "metadata": {},
   "outputs": [],
   "source": [
    "from nltk.corpus import stopwords\n"
   ]
  },
  {
   "cell_type": "code",
   "execution_count": 19,
   "metadata": {},
   "outputs": [],
   "source": [
    "def text_process(mess):\n",
    "    nopunc=[char for char in mess if char not in string.punctuation]\n",
    "    nopunc=''.join(nopunc)\n",
    "    return [word.lower() for word in nopunc.split()  if word.lower() not in stopwords.words('english')]"
   ]
  },
  {
   "cell_type": "code",
   "execution_count": 20,
   "metadata": {},
   "outputs": [
    {
     "data": {
      "text/plain": [
       "0       [fingerprint, pregnancy, test, httpsgooglh1mfq...\n",
       "1       [finally, transparant, silicon, case, thanks, ...\n",
       "2       [love, would, go, talk, makememories, unplug, ...\n",
       "3       [im, wired, know, im, george, made, way, iphon...\n",
       "4       [amazing, service, apple, wont, even, talk, qu...\n",
       "5       [iphone, software, update, fucked, phone, big,...\n",
       "6       [happy, us, instapic, instadaily, us, sony, xp...\n",
       "7       [new, type, c, charger, cable, uk, httpwwwebay...\n",
       "8       [bout, go, shopping, listening, music, iphone,...\n",
       "9       [photo, fun, selfie, pool, water, sony, camera...\n",
       "10      [hey, apple, make, new, ipod, dont, make, new,...\n",
       "11      [ha, heavy, machinery, need, apple, really, dr...\n",
       "12      [contemplating, giving, iphone, bandwagon, sim...\n",
       "13      [made, another, crazy, purchase, lol, theory, ...\n",
       "14      [shaqlockholmes, samlouise1991, battery, painf...\n",
       "15      [deepellum, towards, downtown, dallas, bigd, s...\n",
       "16      [like, share, want, 3d, phone, case, iphone, i...\n",
       "17      [go, crazy, iphonesia, iphone, instagood, inst...\n",
       "18      [reason, dont, one, iphone, suck, apple, truth...\n",
       "19      [apple, store, gunna, 5c, screens, monday, ur,...\n",
       "20      [apple, art, easter, dear, friends, would, lik...\n",
       "21      [excuse, waiter, seems, pie, soup, wife, bake,...\n",
       "22      [ive, new, ipod, four, days, button, back, bro...\n",
       "23      [iphone, screen, goes, completely, black, keep...\n",
       "24      [time, new, wallpapers, phone, wallpapers, wal...\n",
       "25      [105, billion, 3, patents, prior, art, 300, mi...\n",
       "26      [ipod, messed, havent, done, nothing, myloss, ...\n",
       "27      [ipod, touch, frozen, apple, logo, starts, los...\n",
       "28      [love, new, phone, case, flower, green, diamon...\n",
       "29      [must, watch, youtube, subscribe, daily, vlog,...\n",
       "                              ...                        \n",
       "9843    [photo, calm, time, please, security, ha, god,...\n",
       "9844    [pulsemeter, hate, friendship, genie, shaker, ...\n",
       "9845    [u2s, new, al, infiltrated, playlist, already,...\n",
       "9846    [shana, tova, happy, new, jewish, year, secret...\n",
       "9847    [rt, engadget, apple, pulls, vlc, itunes, stor...\n",
       "9848    [gifts, wife, hubby, aani, meemalif, locker, g...\n",
       "9849    [fall, love, iphone, valentine, cute, one, min...\n",
       "9850    [awwwent, send, bday, text, found, half, conta...\n",
       "9851    [weve, released, device, supposed, year, ago, ...\n",
       "9852    [sponsorhip, program, thank, christmas, life, ...\n",
       "9853    [happy, zeeland, today, sunset, zeeland, noord...\n",
       "9854    [havent, posted, pic, girl, iphone, instalikes...\n",
       "9855    [could, samsung, galaxy10, letsgodigital, show...\n",
       "9856    [rt, xlradio, enjoy, devotional, gurbani, keer...\n",
       "9857    [listening, spotify, spotifyuk, music, iphone,...\n",
       "9858    [motoception, welcome, family, moto, x2, motox...\n",
       "9859    [babaysee, youuu, iphone5, iphone, silver, min...\n",
       "9860    [adam, sutch, freaking, kill, dulcimer, iphone...\n",
       "9861    [eyes, windows, soul, instagood, instacool, ip...\n",
       "9862    [krissyannn, omgsh, boo, saw, text, thought, n...\n",
       "9863    [men, top, gummers, mommyhood, iphone, life, i...\n",
       "9864    [thoroughly, addicted, angrybirds, game, consu...\n",
       "9865    [girl, brazil, life, galaxys3, samsung, saturd...\n",
       "9866    [whoop, raj, bigbangtheory, alone, secret, sir...\n",
       "9867    [camerabecause, everytime, look, smile, boredo...\n",
       "9868    [samsunggalaxynote7, explodes, burns, 6yearold...\n",
       "9869    [available, hoodie, check, httpzetasuppliescou...\n",
       "9870    [goes, crack, right, across, screen, could, ac...\n",
       "9871    [codeofinterest, said, adobe, big, time, may, ...\n",
       "9872    [finally, got, thanx, father, samsung, galaxy,...\n",
       "Name: tweet, Length: 9873, dtype: object"
      ]
     },
     "execution_count": 20,
     "metadata": {},
     "output_type": "execute_result"
    }
   ],
   "source": [
    "combi['tweet'].apply(text_process)"
   ]
  },
  {
   "cell_type": "code",
   "execution_count": 23,
   "metadata": {},
   "outputs": [
    {
     "name": "stdout",
     "output_type": "stream",
     "text": [
      "27276\n"
     ]
    }
   ],
   "source": [
    "from sklearn.feature_extraction.text import CountVectorizer\n",
    "bow_transformer = CountVectorizer(analyzer=text_process).fit(combi['tweet'])\n",
    "print(len(bow_transformer.vocabulary_))"
   ]
  },
  {
   "cell_type": "code",
   "execution_count": 24,
   "metadata": {},
   "outputs": [],
   "source": [
    "messages_bow = bow_transformer.transform(combi['tweet'])"
   ]
  },
  {
   "cell_type": "code",
   "execution_count": 25,
   "metadata": {},
   "outputs": [],
   "source": [
    "from sklearn.linear_model import LogisticRegression\n",
    "from sklearn.model_selection import train_test_split\n",
    "from sklearn.metrics import f1_score\n",
    "\"\"\"\n",
    "train_bow = messages_bow[:7920,:]\n",
    "test_bow = messages_bow[7920:,:]\n",
    "\n",
    "xtrain, xtest, ytrain, ytest = train_test_split(train_bow, train['label'],random_state=42,test_size=0.3)\n",
    "\"\"\"\n",
    "train_bow=messages_bow[:7920,:]\n",
    "test_bow=messages_bow[7920:,:]\n",
    "xtrain,xtest,ytrain,ytest=train_test_split(train_bow,train['label'],random_state=42,test_size=0.3)"
   ]
  },
  {
   "cell_type": "code",
   "execution_count": 26,
   "metadata": {},
   "outputs": [
    {
     "data": {
      "text/plain": [
       "0.7954055994256999"
      ]
     },
     "execution_count": 26,
     "metadata": {},
     "output_type": "execute_result"
    }
   ],
   "source": [
    "\"\"\"\n",
    "lreg = LogisticRegression()\n",
    "lreg.fit(xtrain, ytrain) \n",
    "\n",
    "prediction = lreg.predict_proba(xtest) \n",
    "prediction_int = prediction[:,1] >= 0.3 \n",
    "prediction_int = prediction_int.astype(np.int)\n",
    "\n",
    "f1_score(ytest, prediction_int)\n",
    "\"\"\"\n",
    "model=LogisticRegression()\n",
    "model.fit(xtrain,ytrain)\n",
    "prediction=model.predict_proba(xtest)\n",
    "prediction_int=prediction[:,1]>=0.3\n",
    "prediction_int=prediction_int.astype(np.int)\n",
    "f1_score(ytest,prediction_int)"
   ]
  },
  {
   "cell_type": "code",
   "execution_count": 28,
   "metadata": {},
   "outputs": [],
   "source": [
    "\"\"\"\n",
    "test_pred = lreg.predict_proba(test_bow)\n",
    "test_pred_int = test_pred[:,1] >= 0.3\n",
    "test_pred_int = test_pred_int.astype(np.int)\n",
    "test['label'] = test_pred_int\n",
    "submission = test[['id','label']]\n",
    "submission.to_csv('face_log_42.csv', index=False)\n",
    "\"\"\"\n",
    "test_pred=model.predict_proba(test_bow)\n",
    "test_pred_int=test_pred[:,1]>=0.3\n",
    "test_pred_int=test_pred_int.astype(np.int)\n",
    "test['label']=test_pred_int\n",
    "submission=test[['id','label']]\n",
    "submission.to_csv('face_log_43.csv',index=False)"
   ]
  },
  {
   "cell_type": "code",
   "execution_count": 29,
   "metadata": {},
   "outputs": [],
   "source": [
    "from sklearn.feature_extraction.text import TfidfTransformer\n",
    "\n",
    "tfidf_transformer = TfidfTransformer().fit(messages_bow)"
   ]
  },
  {
   "cell_type": "code",
   "execution_count": 30,
   "metadata": {},
   "outputs": [
    {
     "name": "stdout",
     "output_type": "stream",
     "text": [
      "(9873, 27276)\n"
     ]
    }
   ],
   "source": [
    "messages_tfidf = tfidf_transformer.transform(messages_bow)\n",
    "print(messages_tfidf.shape)"
   ]
  },
  {
   "cell_type": "code",
   "execution_count": 32,
   "metadata": {},
   "outputs": [],
   "source": [
    "train_tfidf = messages_tfidf[:7920,:]\n",
    "test_tfidf = messages_tfidf[7920:,:]\n",
    "\n",
    "xtrain, xtest, ytrain, ytest = train_test_split(train_tfidf, train['label'],random_state=42,test_size=0.3)"
   ]
  },
  {
   "cell_type": "code",
   "execution_count": 33,
   "metadata": {},
   "outputs": [
    {
     "data": {
      "text/plain": [
       "LogisticRegression(C=1.0, class_weight=None, dual=False, fit_intercept=True,\n",
       "          intercept_scaling=1, max_iter=100, multi_class='ovr', n_jobs=1,\n",
       "          penalty='l2', random_state=None, solver='liblinear', tol=0.0001,\n",
       "          verbose=0, warm_start=False)"
      ]
     },
     "execution_count": 33,
     "metadata": {},
     "output_type": "execute_result"
    }
   ],
   "source": [
    "model.fit(xtrain,ytrain)"
   ]
  },
  {
   "cell_type": "code",
   "execution_count": 34,
   "metadata": {},
   "outputs": [
    {
     "data": {
      "text/plain": [
       "0.8031953522149601"
      ]
     },
     "execution_count": 34,
     "metadata": {},
     "output_type": "execute_result"
    }
   ],
   "source": [
    "prediction = model.predict_proba(xtest) \n",
    "prediction_int = prediction[:,1] >= 0.3 \n",
    "prediction_int = prediction_int.astype(np.int)\n",
    "\n",
    "f1_score(ytest, prediction_int)"
   ]
  },
  {
   "cell_type": "code",
   "execution_count": 36,
   "metadata": {},
   "outputs": [],
   "source": [
    "test_pred = model.predict_proba(test_bow)\n",
    "test_pred_int = test_pred[:,1] >= 0.3\n",
    "test_pred_int = test_pred_int.astype(np.int)\n",
    "test['label'] = test_pred_int\n",
    "submission = test[['id','label']]\n",
    "submission.to_csv('face_log_tfidf_43.csv', index=False)"
   ]
  },
  {
   "cell_type": "code",
   "execution_count": 39,
   "metadata": {},
   "outputs": [],
   "source": [
    "xtrain, xtest, ytrain, ytest = train_test_split(train_bow, train['label'],test_size=0.3)"
   ]
  },
  {
   "cell_type": "code",
   "execution_count": 40,
   "metadata": {},
   "outputs": [
    {
     "data": {
      "text/plain": [
       "0.7812041116005874"
      ]
     },
     "execution_count": 40,
     "metadata": {},
     "output_type": "execute_result"
    }
   ],
   "source": [
    "model.fit(xtrain, ytrain) \n",
    "\n",
    "prediction = model.predict_proba(xtest) \n",
    "prediction_int = prediction[:,1] >= 0.3 \n",
    "prediction_int = prediction_int.astype(np.int)\n",
    "\n",
    "f1_score(ytest, prediction_int)"
   ]
  },
  {
   "cell_type": "code",
   "execution_count": 41,
   "metadata": {},
   "outputs": [],
   "source": [
    "test_pred = model.predict_proba(test_bow)\n",
    "test_pred_int = test_pred[:,1] >= 0.3\n",
    "test_pred_int = test_pred_int.astype(np.int)\n",
    "test['label'] = test_pred_int\n",
    "submission = test[['id','label']]\n",
    "submission.to_csv('face_log.csv', index=False)"
   ]
  },
  {
   "cell_type": "code",
   "execution_count": 42,
   "metadata": {},
   "outputs": [],
   "source": [
    "xtrain, xtest, ytrain, ytest = train_test_split(train_tfidf, train['label'],test_size=0.3)"
   ]
  },
  {
   "cell_type": "code",
   "execution_count": 43,
   "metadata": {},
   "outputs": [
    {
     "data": {
      "text/plain": [
       "0.7946428571428572"
      ]
     },
     "execution_count": 43,
     "metadata": {},
     "output_type": "execute_result"
    }
   ],
   "source": [
    "model.fit(xtrain,ytrain)\n",
    "\n",
    "prediction = model.predict_proba(xtest) \n",
    "prediction_int = prediction[:,1] >= 0.3 \n",
    "prediction_int = prediction_int.astype(np.int)\n",
    "\n",
    "f1_score(ytest, prediction_int)"
   ]
  },
  {
   "cell_type": "code",
   "execution_count": 45,
   "metadata": {},
   "outputs": [],
   "source": [
    "test_pred = model.predict_proba(test_bow)\n",
    "test_pred_int = test_pred[:,1] >= 0.3\n",
    "test_pred_int = test_pred_int.astype(np.int)\n",
    "test['label'] = test_pred_int\n",
    "submission = test[['id','label']]\n",
    "submission.to_csv('face_log_tfidf.csv', index=False)"
   ]
  },
  {
   "cell_type": "code",
   "execution_count": null,
   "metadata": {},
   "outputs": [],
   "source": []
  }
 ],
 "metadata": {
  "kernelspec": {
   "display_name": "Python 3",
   "language": "python",
   "name": "python3"
  },
  "language_info": {
   "codemirror_mode": {
    "name": "ipython",
    "version": 3
   },
   "file_extension": ".py",
   "mimetype": "text/x-python",
   "name": "python",
   "nbconvert_exporter": "python",
   "pygments_lexer": "ipython3",
   "version": "3.6.5"
  }
 },
 "nbformat": 4,
 "nbformat_minor": 2
}
